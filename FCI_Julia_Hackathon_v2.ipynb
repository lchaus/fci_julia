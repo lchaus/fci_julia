{
  "nbformat": 4,
  "nbformat_minor": 0,
  "metadata": {
    "colab": {
      "provenance": [],
      "toc_visible": true,
      "include_colab_link": true
    },
    "kernelspec": {
      "display_name": "Julia",
      "language": "julia",
      "name": "julia"
    },
    "language_info": {
      "file_extension": ".jl",
      "mimetype": "application/julia",
      "name": "julia"
    }
  },
  "cells": [
    {
      "cell_type": "markdown",
      "metadata": {
        "id": "view-in-github",
        "colab_type": "text"
      },
      "source": [
        "<a href=\"https://colab.research.google.com/github/lchaus/fci_julia/blob/main/FCI_Julia_Hackathon_v2.ipynb\" target=\"_parent\"><img src=\"https://colab.research.google.com/assets/colab-badge.svg\" alt=\"Open In Colab\"/></a>"
      ]
    },
    {
      "cell_type": "markdown",
      "metadata": {
        "id": "tQ1r1bbb0yBv"
      },
      "source": [
        "# <img src=\"https://github.com/JuliaLang/julia-logo-graphics/raw/master/images/julia-logo-color.png\" height=\"100\" /> _Full Configuration Interaction_\n",
        "\n",
        "## Instructions\n",
        "1. Execute the following cell (click on it and press Ctrl+Enter) to install Julia, IJulia and other packages (if needed, update `JULIA_VERSION` and the other parameters). This takes a couple of minutes.\n",
        "2. Reload this page (press Ctrl+R, or ⌘+R, or the F5 key) and continue to the next section.\n",
        "\n",
        "_Notes_:\n",
        "* If your Colab Runtime gets reset (e.g., due to inactivity), repeat steps 1, 2.\n",
        "* After installation, if you want to change the Julia version or activate/deactivate the GPU, you will need to reset the Runtime: _Runtime_ > _Factory reset runtime_ and repeat steps 1 and 1.\n",
        "\n",
        "Adapted from Google collab Julia template"
      ]
    },
    {
      "cell_type": "code",
      "metadata": {
        "id": "GIeFXS0F0zww",
        "colab": {
          "base_uri": "https://localhost:8080/"
        },
        "outputId": "96206cdb-f1be-4feb-ae5d-7c7e42661555"
      },
      "source": [
        "%%shell\n",
        "set -e\n",
        "\n",
        "#---------------------------------------------------#\n",
        "JULIA_VERSION=\"1.8.3\" # any version ≥ 0.7.0\n",
        "JULIA_PACKAGES=\"IJulia BenchmarkTools Fermi LinearAlgebra Combinatorics OMEinsum\"\n",
        "JULIA_PACKAGES_IF_GPU=\"CUDA\" # or CuArrays for older Julia versions\n",
        "JULIA_NUM_THREADS=1\n",
        "#---------------------------------------------------#\n",
        "\n",
        "if [ -z `which julia` ]; then\n",
        "  # Install Julia\n",
        "  JULIA_VER=`cut -d '.' -f -2 <<< \"$JULIA_VERSION\"`\n",
        "  echo \"Installing Julia $JULIA_VERSION on the current Colab Runtime...\"\n",
        "  BASE_URL=\"https://julialang-s3.julialang.org/bin/linux/x64\"\n",
        "  URL=\"$BASE_URL/$JULIA_VER/julia-$JULIA_VERSION-linux-x86_64.tar.gz\"\n",
        "  wget -nv $URL -O /tmp/julia.tar.gz # -nv means \"not verbose\"\n",
        "  tar -x -f /tmp/julia.tar.gz -C /usr/local --strip-components 1\n",
        "  rm /tmp/julia.tar.gz\n",
        "\n",
        "  # Install Packages\n",
        "  nvidia-smi -L &> /dev/null && export GPU=1 || export GPU=0\n",
        "  if [ $GPU -eq 1 ]; then\n",
        "    JULIA_PACKAGES=\"$JULIA_PACKAGES $JULIA_PACKAGES_IF_GPU\"\n",
        "  fi\n",
        "  for PKG in `echo $JULIA_PACKAGES`; do\n",
        "    echo \"Installing Julia package $PKG...\"\n",
        "    julia -e 'using Pkg; pkg\"add '$PKG'; precompile;\"' &> /dev/null\n",
        "  done\n",
        "\n",
        "  # Install kernel and rename it to \"julia\"\n",
        "  echo \"Installing IJulia kernel...\"\n",
        "  julia -e 'using IJulia; IJulia.installkernel(\"julia\", env=Dict(\n",
        "      \"JULIA_NUM_THREADS\"=>\"'\"$JULIA_NUM_THREADS\"'\"))'\n",
        "  KERNEL_DIR=`julia -e \"using IJulia; print(IJulia.kerneldir())\"`\n",
        "  KERNEL_NAME=`ls -d \"$KERNEL_DIR\"/julia*`\n",
        "  mv -f $KERNEL_NAME \"$KERNEL_DIR\"/julia  \n",
        "\n",
        "  echo ''\n",
        "  echo \"Successfully installed `julia -v`!\"\n",
        "  echo \"Please reload this page (press Ctrl+R, ⌘+R, or the F5 key) then\"\n",
        "  echo \"jump to the 'Checking the Installation' section.\"\n",
        "fi"
      ],
      "execution_count": null,
      "outputs": [
        {
          "output_type": "stream",
          "name": "stdout",
          "text": [
            "Installing Julia 1.8.3 on the current Colab Runtime...\n",
            "2023-05-31 20:34:16 URL:https://storage.googleapis.com/julialang2/bin/linux/x64/1.8/julia-1.8.3-linux-x86_64.tar.gz [130030846/130030846] -> \"/tmp/julia.tar.gz\" [1]\n",
            "Installing Julia package IJulia...\n",
            "Installing Julia package BenchmarkTools...\n",
            "Installing Julia package Fermi...\n"
          ]
        }
      ]
    },
    {
      "cell_type": "markdown",
      "metadata": {
        "id": "-OS3Ac017T1i"
      },
      "source": [
        "# Checking the Installation\n",
        "The `versioninfo()` function should print your Julia version and some other info about the system:"
      ]
    },
    {
      "cell_type": "code",
      "metadata": {
        "id": "EEzvvzCl1i0F",
        "colab": {
          "base_uri": "https://localhost:8080/"
        },
        "outputId": "b13357da-ce79-426e-dd1f-8db89279d29f"
      },
      "source": [
        "versioninfo()"
      ],
      "execution_count": 2,
      "outputs": [
        {
          "output_type": "stream",
          "name": "stdout",
          "text": [
            "Julia Version 1.8.3\n",
            "Commit 0434deb161e (2022-11-14 20:14 UTC)\n",
            "Platform Info:\n",
            "  OS: Linux (x86_64-linux-gnu)\n",
            "  CPU: 2 × Intel(R) Xeon(R) CPU @ 2.20GHz\n",
            "  WORD_SIZE: 64\n",
            "  LIBM: libopenlibm\n",
            "  LLVM: libLLVM-13.0.1 (ORCJIT, broadwell)\n",
            "  Threads: 1 on 2 virtual cores\n",
            "Environment:\n",
            "  LD_LIBRARY_PATH = /usr/local/nvidia/lib:/usr/local/nvidia/lib64\n",
            "  JULIA_NUM_THREADS = 1\n"
          ]
        }
      ]
    },
    {
      "cell_type": "code",
      "source": [
        "using Fermi\n",
        "using Fermi.Integrals\n",
        "using LinearAlgebra\n",
        "using BenchmarkTools\n",
        "using Combinatorics\n",
        "using OMEinsum"
      ],
      "metadata": {
        "id": "wfNZMIg1eZE5"
      },
      "execution_count": 3,
      "outputs": []
    },
    {
      "cell_type": "markdown",
      "source": [
        "## Hartree-Fock Algorithm \n",
        "*Using the notation of Szabo & Ostlund - Introduction to Advanced Electronic Structure Theory*"
      ],
      "metadata": {
        "id": "_SbEPvy2e4Fa"
      }
    },
    {
      "cell_type": "code",
      "source": [
        "#Specify a molecular geometry using fermi.jl (takes care of AO integrals)\n",
        "@molecule {\n",
        "    O   0.000000     0.00000     0.11779\n",
        "    H   0.000000     0.75545    -0.47116\n",
        "    H   0.000000    -0.75545    -0.47116 \n",
        "}\n",
        "@set {\n",
        "    basis sto-3g\n",
        "    charge 0\n",
        "    multiplicity 1 \n",
        "}\n",
        "\n",
        "ao_integrals = IntegralHelper(eri_type=Chonky())\n",
        "\n",
        "function RHF(ao_integrals)\n",
        "    \n",
        "    #1. Calculate all the required molecular integrals (using fermi.jl)\n",
        "    ao_integrals = IntegralHelper(eri_type=Chonky())\n",
        "    S = ao_integrals[\"S\"]\n",
        "    Hcore = Array(ao_integrals[\"T\"]) + Array(ao_integrals[\"V\"])\n",
        "    V_nuc = ao_integrals.molecule.Vnuc\n",
        "    μνλσ = Array(ao_integrals[\"ERI\"])\n",
        "    \n",
        "    #2. Store basis set size K and number of occupied orbitals nocc\n",
        "    K = size(S, 1)\n",
        "    nocc = ao_integrals.molecule.Nα\n",
        "    \n",
        "    #3. Diagonalize the overlap matrix S and obtain a transformation matrix (3.167)\n",
        "    s, U = eigen(S)\n",
        "    s = Diagonal(s)\n",
        "    X = U * inv(sqrt(s)) * U'\n",
        "    \n",
        "    #4. Obtain a guess at the density matrix Pnew\n",
        "    C = zeros(K,K)\n",
        "    occupied = Diagonal(vcat(fill(2, nocc), zeros(K-nocc)))\n",
        "    Pnew = C * occupied * C'\n",
        "    \n",
        "    #5. Calculate matrix G of eq (3.154) (in two steps here)\n",
        "    G = μνλσ - 0.5 * permutedims(μνλσ, (1,4,3,2))\n",
        "    \n",
        "    iteration = 1\n",
        "    Ptol = 10\n",
        "    maxiter = 50\n",
        "    E = 0\n",
        "    while Ptol > 1e-4\n",
        "        P = Pnew\n",
        "        Gμν = ein\"λσ, μνλσ -> μν\"(P,G)\n",
        "        \n",
        "        #6. Add G to the core Hamiltonian to obtain the Fock matrix\n",
        "        F = Hcore + Gμν\n",
        "    \n",
        "        #7. Calculate the transformed Fock matrix Ft\n",
        "        Ft = X' * F * X\n",
        "        \n",
        "        #8. Diagonalize Ft to obtain Ct and ε\n",
        "        ε, Ct = eigen(Ft, sortby = x->x)\n",
        "    \n",
        "        #9. Calculate C\n",
        "        C = X * Ct\n",
        "    \n",
        "        #10. Form a new density matrix P from C using (3.145)\n",
        "        Pnew = C * occupied * C'\n",
        "        \n",
        "        #11. Determine whether the procedure has converged\n",
        "        Ptol = sqrt.(sum((Pnew .- P).^2) ./ K^2)\n",
        "    \n",
        "        E = ein\"νμ,μν -> \"(Pnew,(Hcore+F))\n",
        "        E = 0.5 .* E .+ V_nuc\n",
        "        println(\"Iteration $iteration ---- E = $E ---- Ptol = $Ptol\")\n",
        "        if iteration > maxiter\n",
        "            println(\"Max number of iterations reached\")\n",
        "            break\n",
        "        end\n",
        "        iteration += 1\n",
        "    end\n",
        "    return E, C\n",
        "    println(\"Hartree Fock converged\")\n",
        "end\n",
        "\n",
        "#Run the Hartee-Fock Calculation\n",
        "E, C = RHF(ao_integrals)\n",
        "println(\"Converged Hartree-Fock Energy = $E\")"
      ],
      "metadata": {
        "id": "lOa7a4CtchKj",
        "colab": {
          "base_uri": "https://localhost:8080/"
        },
        "outputId": "f3344e27-8570-497f-d95c-dcdff49e56c3"
      },
      "execution_count": 4,
      "outputs": [
        {
          "output_type": "stream",
          "name": "stdout",
          "text": [
            "Iteration 1 ---- E = -118.16877249768525 ---- Ptol = 0.7698697843908376\n",
            "Iteration 2 ---- E = -71.19755398663594 ---- Ptol = 0.5276234409815904\n",
            "Iteration 3 ---- E = -75.28186975157038 ---- Ptol = 0.0537674821920756\n",
            "Iteration 4 ---- E = -74.93750748767822 ---- Ptol = 0.010506246245443673\n",
            "Iteration 5 ---- E = -74.96647042201111 ---- Ptol = 0.004072569282003494\n",
            "Iteration 6 ---- E = -74.96355897322368 ---- Ptol = 0.001620682445292192\n",
            "Iteration 7 ---- E = -74.96341516996753 ---- Ptol = 0.0006797065105299799\n",
            "Iteration 8 ---- E = -74.96325755180095 ---- Ptol = 0.00028923338599596253\n",
            "Iteration 9 ---- E = -74.96319518881681 ---- Ptol = 0.00012418820789282035\n",
            "Iteration 10 ---- E = -74.96316753236347 ---- Ptol = 5.355248914804694e-5\n",
            "Converged Hartree-Fock Energy = -74.96316753236347\n"
          ]
        }
      ]
    },
    {
      "cell_type": "markdown",
      "source": [
        "## Full CI\n",
        "N-resolution method, code adapted in Julia from pyscf: <https://github.com/pyscf/pyscf/blob/master/pyscf/fci/fci_slow.py> <br><br>\n",
        "Following the notation of *Molecular Electronic-Structure Theory by Helgaker, Jorgensen, Olsen*"
      ],
      "metadata": {
        "id": "AoH88s4ZfIJD"
      }
    },
    {
      "cell_type": "markdown",
      "source": [
        "$$\\newcommand{\\ket}[1]{\\left|{#1}\\right\\rangle}$$\n",
        "$$\\newcommand{\\bra}[1]{\\left\\langle{#1}\\right|}$$\n",
        "We will use the alpha and beta string representation of the CI expansion\n",
        "\n",
        "$$ \\ket{I_\\alpha I_\\beta} = \\hat{\\alpha}_{I_\\alpha}\\hat{\\beta}_{I_\\beta} \\ket{vac} $$ \n",
        "\n",
        "$$ I_{\\alpha} = \"00000111\" = 7 $$"
      ],
      "metadata": {
        "id": "HuqpYba2fM_i"
      }
    },
    {
      "cell_type": "markdown",
      "source": [
        "\n",
        "### Backtracking algorithm to generate  all occupation bitstrings"
      ],
      "metadata": {
        "id": "M4sRSRdPftWb"
      }
    },
    {
      "cell_type": "code",
      "source": [
        "nmo = 7\n",
        "nα = nβ = 5\n",
        "nvir = nmo - nα\n",
        "orbital_list = collect(0:nmo-1)\n",
        "\n",
        "function generate_string_iter(orbital_list,nelec)\n",
        "  #println(\"orbital list = $(orbital_list), nelec = $(nelec)\")\n",
        "\tif nelec == 1\n",
        "\t    result = [(1 << i) for i in orbital_list]\n",
        "\telseif nelec >= length(orbital_list)\n",
        "\t\tn = 0\n",
        "\t\tfor i in orbital_list\n",
        "\t\t\tn = n | (1 << i)\n",
        "\t\tend\n",
        "\t\tresult = [n]\n",
        "\telse\n",
        "\t\trestorb = orbital_list[1:end-1]\n",
        "\t\tthisorb = 1 << orbital_list[end]\n",
        "\t\tresult = generate_string_iter(restorb, nelec)\n",
        "\t\tfor n in generate_string_iter(restorb, nelec-1)\n",
        "\t\t\ttmp = (n | thisorb)\n",
        "\t\t\tpush!(result, tmp)\n",
        "\t\t\t#println(\"result = $(result)\")\n",
        "\t\tend\n",
        "\tend\n",
        "\treturn result\n",
        "end\n",
        "\n",
        "α_string = generate_string_iter(orbital_list,nα)\n",
        "α_bitstring = [bitstring(i) for i in α_string]\n",
        "\n",
        "println(\"α_string in integer form: \")\n",
        "display(α_string)\n",
        "println(\"α_string in bitstring form: \")\n",
        "display(α_bitstring)"
      ],
      "metadata": {
        "colab": {
          "base_uri": "https://localhost:8080/",
          "height": 816
        },
        "id": "uocc4rX-ft4U",
        "outputId": "fdc7d502-b21b-4b5d-9102-addbe09f8f66"
      },
      "execution_count": 5,
      "outputs": [
        {
          "output_type": "stream",
          "name": "stdout",
          "text": [
            "α_string in integer form: \n"
          ]
        },
        {
          "output_type": "display_data",
          "data": {
            "text/plain": [
              "21-element Vector{Int64}:\n",
              "  31\n",
              "  47\n",
              "  55\n",
              "  59\n",
              "  61\n",
              "  62\n",
              "  79\n",
              "  87\n",
              "  91\n",
              "  93\n",
              "  94\n",
              " 103\n",
              " 107\n",
              " 109\n",
              " 110\n",
              " 115\n",
              " 117\n",
              " 118\n",
              " 121\n",
              " 122\n",
              " 124"
            ]
          },
          "metadata": {}
        },
        {
          "output_type": "stream",
          "name": "stdout",
          "text": [
            "α_string in bitstring form: \n"
          ]
        },
        {
          "output_type": "display_data",
          "data": {
            "text/plain": [
              "21-element Vector{String}:\n",
              " \"0000000000000000000000000000000000000000000000000000000000011111\"\n",
              " \"0000000000000000000000000000000000000000000000000000000000101111\"\n",
              " \"0000000000000000000000000000000000000000000000000000000000110111\"\n",
              " \"0000000000000000000000000000000000000000000000000000000000111011\"\n",
              " \"0000000000000000000000000000000000000000000000000000000000111101\"\n",
              " \"0000000000000000000000000000000000000000000000000000000000111110\"\n",
              " \"0000000000000000000000000000000000000000000000000000000001001111\"\n",
              " \"0000000000000000000000000000000000000000000000000000000001010111\"\n",
              " \"0000000000000000000000000000000000000000000000000000000001011011\"\n",
              " \"0000000000000000000000000000000000000000000000000000000001011101\"\n",
              " \"0000000000000000000000000000000000000000000000000000000001011110\"\n",
              " \"0000000000000000000000000000000000000000000000000000000001100111\"\n",
              " \"0000000000000000000000000000000000000000000000000000000001101011\"\n",
              " \"0000000000000000000000000000000000000000000000000000000001101101\"\n",
              " \"0000000000000000000000000000000000000000000000000000000001101110\"\n",
              " \"0000000000000000000000000000000000000000000000000000000001110011\"\n",
              " \"0000000000000000000000000000000000000000000000000000000001110101\"\n",
              " \"0000000000000000000000000000000000000000000000000000000001110110\"\n",
              " \"0000000000000000000000000000000000000000000000000000000001111001\"\n",
              " \"0000000000000000000000000000000000000000000000000000000001111010\"\n",
              " \"0000000000000000000000000000000000000000000000000000000001111100\""
            ]
          },
          "metadata": {}
        }
      ]
    },
    {
      "cell_type": "markdown",
      "source": [
        "We want to solve the eigenvalue problem using an iterative method (Davidson algorithm). For this purpose we have to be able to calculate the matrix elements of the Hamiltonian efficiently. We need an efficient addressing scheme to map the monoexcited occupation strings and calculate only non-zero matrix elements of the Hamiltonian."
      ],
      "metadata": {
        "id": "deaNXRvwgijJ"
      }
    },
    {
      "cell_type": "markdown",
      "source": [
        "We will need two more functions before being able to generate a look up table containing all monoexcited occupation strings."
      ],
      "metadata": {
        "id": "VHQSJovIgk2W"
      }
    },
    {
      "cell_type": "markdown",
      "source": [
        "### Define the unique adress of a given excited string"
      ],
      "metadata": {
        "id": "htV5rPcVgt7e"
      }
    },
    {
      "cell_type": "code",
      "source": [
        "function string2address(list_string, count, nmo, nel)\n",
        "    address_map = Vector{Int64}(undef, count)\n",
        "    nextaddr0 = binomial(nmo-1, nel)\n",
        "    for i in 1:count\n",
        "        string = list_string[i]\n",
        "        addr = 1\n",
        "        nelec_left = nel\n",
        "        nextaddr = nextaddr0\n",
        "        for norb_left=nmo-1:-1:0\n",
        "            if ( (nelec_left == 0) || norb_left < nelec_left )\n",
        "                break\n",
        "            elseif (((1 << norb_left) & string) != 0)\n",
        "            @assert nextaddr == binomial(norb_left,nelec_left)\n",
        "            addr += nextaddr\n",
        "            nextaddr *= nelec_left\n",
        "            nextaddr /= norb_left\n",
        "            nextaddr = floor(Int,nextaddr)\n",
        "            nelec_left -= 1\n",
        "            else\n",
        "                nextaddr *= norb_left - nelec_left\n",
        "                nextaddr /= norb_left\n",
        "                nextaddr = floor(Int,nextaddr)\n",
        "            end\n",
        "        end\n",
        "        address_map[i] = addr\n",
        "    end\n",
        "    return address_map\n",
        "end\n",
        "\n",
        "#List of all excited strings from ground state string\n",
        "excited_string_int = [62, 94, 61, 93, 59, 91, 55, 87, 47, 79]\n",
        "excited_string = [bitstring(i) for i in excited_string_int]\n",
        "println(\"Ground state string α_string[1] = \\n $(bitstring(α_string[1]))\")\n",
        "println(\"1st monoexcitation excited_string[1] = \\n $(excited_string[1])\")\n",
        "\n",
        "stringaddress = string2address(excited_string_int,nα*nvir,nmo,nα)\n",
        "\n",
        "println(\"Index of excited_string[1] in α_string is stringaddress[1] = $(stringaddress[1]) \")\n",
        "println(\"α_string[6] = \\n $(bitstring(α_string[6]))\")\n"
      ],
      "metadata": {
        "colab": {
          "base_uri": "https://localhost:8080/"
        },
        "id": "BIQzXje8gvQs",
        "outputId": "361e7f0b-c56b-4008-eb81-10e7fff39b97"
      },
      "execution_count": 6,
      "outputs": [
        {
          "output_type": "stream",
          "name": "stdout",
          "text": [
            "Ground state string α_string[1] = \n",
            " 0000000000000000000000000000000000000000000000000000000000011111\n",
            "1st monoexcitation excited_string[1] = \n",
            " 0000000000000000000000000000000000000000000000000000000000111110\n",
            "Index of excited_string[1] in α_string is stringaddress[1] = 6 \n",
            "α_string[6] = \n",
            " 0000000000000000000000000000000000000000000000000000000000111110\n"
          ]
        }
      ]
    },
    {
      "cell_type": "markdown",
      "source": [
        "### Determine the parity of the excited string\n",
        "Due to anticommutation relations of creation and annihilation operators and the number of permutations required to put a given excited string in canonical order, we need to determine for each excited string a parity factor.\n",
        "\n",
        "$${\\{a_p^\\dagger, a_q\\}} = a_p^\\dagger a_q+ a_q a_p^\\dagger = \\delta_{pq}$$\n",
        "$${\\{a_p^\\dagger, a_q^\\dagger\\}} = 0$$\n",
        "$${\\{a_p, a_q\\}} = 0$$"
      ],
      "metadata": {
        "id": "jKWcQrqfgzby"
      }
    },
    {
      "cell_type": "code",
      "source": [
        "# Returns the parity of a given \"a†(p) a(q)|string>\"\n",
        "function string_parity(p, q, string)\n",
        "    if (p > q)\n",
        "        mask = (1 << (p-1)) - (1 << q)\n",
        "    else\n",
        "        mask = (1 << (q-1)) - (1 << p)\n",
        "    end\n",
        "    if (count_ones(mask & string) % 2 == 1)\n",
        "        parity = -1\n",
        "    else \n",
        "        parity = 1\n",
        "    end\n",
        "    test = (string[1] & mask) \n",
        "    return parity\n",
        "end\n",
        "\n",
        "parity_62_string1 = string_parity(6, 2, α_string[1])\n",
        "\n",
        "println(\"Ground state string α_string[1] = \\n $(bitstring(α_string[1]))\")\n",
        "println(\"Parity for a†⁶a²   a¹†a²†a³†a⁴†a⁵†|vac> = $parity_62_string1\" )\n"
      ],
      "metadata": {
        "colab": {
          "base_uri": "https://localhost:8080/"
        },
        "id": "Gqf0azsbgxjf",
        "outputId": "74e01733-59b7-4bea-a29d-f94813c27afc"
      },
      "execution_count": 7,
      "outputs": [
        {
          "output_type": "stream",
          "name": "stdout",
          "text": [
            "Ground state string α_string[1] = \n",
            " 0000000000000000000000000000000000000000000000000000000000011111\n",
            "Parity for a†⁶a²   a¹†a²†a³†a⁴†a⁵†|vac> = -1\n"
          ]
        }
      ]
    },
    {
      "cell_type": "markdown",
      "source": [
        "### Generate the monoexcitations $a_p^\\dagger a_q \\ket{\\Psi}$\n",
        "\n",
        "\n"
      ],
      "metadata": {
        "id": "W7FDv58chHF1"
      }
    },
    {
      "cell_type": "code",
      "source": [
        "function mono_string_index(strings, nmo, nocc)\n",
        "    #Create look-up table of the effect of E_pq on a give string list\n",
        "    # table = [a^†, a, address, parity]\n",
        "    nvir = nmo - nocc\n",
        "    allowed = nocc + nocc * nvir\n",
        "    nstring = binomial(nmo,nocc)\n",
        "    occupied = Vector{Int64}(undef, nocc)\n",
        "    virtual = Vector{Int64}(undef, nvir)\n",
        "    table = Array{Int64}(undef, allowed, 4, nstring)\n",
        "    for (nstr, string) in enumerate(strings)\n",
        "        o = 1\n",
        "        v = 1\n",
        "        #Mapping of creation and annihilation operators\n",
        "        for i in 0:nmo-1\n",
        "            if (string & (1 << i) != 0)\n",
        "                occupied[o] = i + 1\n",
        "                o += 1\n",
        "            else \n",
        "                virtual[v] = i + 1\n",
        "                v += 1\n",
        "            end\n",
        "        end\n",
        "\n",
        "        for i in 1:nocc\n",
        "            table[i,1,nstr] = occupied[i]\n",
        "            table[i,2,nstr] = occupied[i]\n",
        "            table[i,3,nstr] = nstr\n",
        "            table[i,4,nstr] = 1\n",
        "        end\n",
        "        \n",
        "        k = nocc + 1\n",
        "        list_string = Vector{Int64}(undef,allowed-nocc)\n",
        "        for i in 1:nocc\n",
        "            for j in 1:nvir\n",
        "                #Generate all excitations from a given \"string\" in \"list_string\"\n",
        "                string_ex = (string ⊻ ( 1 << (occupied[i]-1)) | (1 << (virtual[j] - 1)))\n",
        "                list_string[k - nocc] = string_ex\n",
        "                table[k,1,nstr] = virtual[j]\n",
        "                table[k,2,nstr] = occupied[i]\n",
        "                table[k,4,nstr] = string_parity(virtual[j], occupied[i], string)\n",
        "                k += 1\n",
        "            end\n",
        "            address = string2address(list_string,nocc*nvir,nmo,nocc)\n",
        "            for k in 1:(nocc*nvir)\n",
        "                table[k+nocc,3,nstr] = address[k]\n",
        "            end\n",
        "        end\n",
        "    end\n",
        "    return table\n",
        "end\n",
        "\n",
        "address_table = mono_string_index(α_string, nmo, nα)\n",
        "println(\"α_bitstring[1] = $(α_bitstring[1])\")\n",
        "println(\"Corresponding entry - address_table[1]\")\n",
        "println(\"[a†, a, address, parity]\")\n",
        "address_table[:,:,1]"
      ],
      "metadata": {
        "colab": {
          "base_uri": "https://localhost:8080/"
        },
        "id": "w74qIuQtg4os",
        "outputId": "ce7e0dc0-3357-4d6d-8f26-68eba25f1392"
      },
      "execution_count": 8,
      "outputs": [
        {
          "output_type": "stream",
          "name": "stdout",
          "text": [
            "α_bitstring[1] = 0000000000000000000000000000000000000000000000000000000000011111\n",
            "Corresponding entry - address_table[1]\n",
            "[a†, a, address, parity]\n"
          ]
        },
        {
          "output_type": "execute_result",
          "data": {
            "text/plain": [
              "15×4 Matrix{Int64}:\n",
              " 1  1   1   1\n",
              " 2  2   1   1\n",
              " 3  3   1   1\n",
              " 4  4   1   1\n",
              " 5  5   1   1\n",
              " 6  1   6   1\n",
              " 7  1  11   1\n",
              " 6  2   5  -1\n",
              " 7  2  10  -1\n",
              " 6  3   4   1\n",
              " 7  3   9   1\n",
              " 6  4   3  -1\n",
              " 7  4   8  -1\n",
              " 6  5   2   1\n",
              " 7  5   7   1"
            ]
          },
          "metadata": {},
          "execution_count": 8
        }
      ]
    },
    {
      "cell_type": "markdown",
      "source": [
        "Finally we make sure to store all orbital occupation in every possible string for later accessing the molecular orbitals"
      ],
      "metadata": {
        "id": "5yYt6hrPiBS-"
      }
    },
    {
      "cell_type": "code",
      "source": [
        "function occupied_strings(orblist, nel)    \n",
        "    if (nel == 1)\n",
        "        res = [[i] for i in orblist]\n",
        "    elseif (nel >= length(orblist))\n",
        "        res = [orblist] \n",
        "    else\n",
        "        restorb = orblist[1:end-1]\n",
        "        thisorb = orblist[end]\n",
        "        res = occupied_strings(restorb, nel)\n",
        "        for i in occupied_strings(restorb, nel-1)\n",
        "            tmp = vcat(i, thisorb)\n",
        "            push!(res, tmp)\n",
        "        end\n",
        "    end\n",
        "    return res\n",
        "end\n",
        "\n",
        "occupied_strings(orbital_list, nα)"
      ],
      "metadata": {
        "colab": {
          "base_uri": "https://localhost:8080/"
        },
        "id": "TLUlH5FCiB8T",
        "outputId": "fc275e70-a850-4f72-c50d-3ffd7519cd68"
      },
      "execution_count": 9,
      "outputs": [
        {
          "output_type": "execute_result",
          "data": {
            "text/plain": [
              "21-element Vector{Vector{Int64}}:\n",
              " [0, 1, 2, 3, 4]\n",
              " [0, 1, 2, 3, 5]\n",
              " [0, 1, 2, 4, 5]\n",
              " [0, 1, 3, 4, 5]\n",
              " [0, 2, 3, 4, 5]\n",
              " [1, 2, 3, 4, 5]\n",
              " [0, 1, 2, 3, 6]\n",
              " [0, 1, 2, 4, 6]\n",
              " [0, 1, 3, 4, 6]\n",
              " [0, 2, 3, 4, 6]\n",
              " [1, 2, 3, 4, 6]\n",
              " [0, 1, 2, 5, 6]\n",
              " [0, 1, 3, 5, 6]\n",
              " [0, 2, 3, 5, 6]\n",
              " [1, 2, 3, 5, 6]\n",
              " [0, 1, 4, 5, 6]\n",
              " [0, 2, 4, 5, 6]\n",
              " [1, 2, 4, 5, 6]\n",
              " [0, 3, 4, 5, 6]\n",
              " [1, 3, 4, 5, 6]\n",
              " [2, 3, 4, 5, 6]"
            ]
          },
          "metadata": {},
          "execution_count": 9
        }
      ]
    },
    {
      "cell_type": "markdown",
      "source": [
        "And we put it all together..."
      ],
      "metadata": {
        "id": "RQhROqGWiJtF"
      }
    },
    {
      "cell_type": "code",
      "source": [
        "function generate_index(orbital_list, nmo, nel)\n",
        "    strings =  generate_string_iter(orbital_list,nel)\n",
        "    address_table = mono_string_index(strings, nmo, nel)\n",
        "    return address_table\n",
        "end"
      ],
      "metadata": {
        "colab": {
          "base_uri": "https://localhost:8080/"
        },
        "id": "3TMhjGi3iMfs",
        "outputId": "dea642a3-66e6-4648-e5fb-826d2cbdf4cb"
      },
      "execution_count": 10,
      "outputs": [
        {
          "output_type": "execute_result",
          "data": {
            "text/plain": [
              "generate_index (generic function with 1 method)"
            ]
          },
          "metadata": {},
          "execution_count": 10
        }
      ]
    },
    {
      "cell_type": "markdown",
      "source": [
        "### The N-resolution method\n",
        "Our goal is to solve for\n",
        "$$\\hat{H} = \\sum_{pq}h_{pq} E_{pq} + \\frac{1}{2} \\sum_{pqrs}g_{pqrs} (E_{pq} E_{rs} - \\delta_{pq} E_{ps} )$$\n",
        "\n",
        "To solve iteratively the eigenvalue problem (using Davidson algorithm) we need to be able to define a vector contraction of the Hamiltonian $\\sigma = HC$\n",
        "\n",
        "The sigma vector in the alpha/beta string basis can be split and computed in two parts (one electron part $\\sigma_{I_\\alpha I_\\beta}^{(1)}$ and a two electron part $\\sigma_{I_\\alpha I_\\beta}^{(2)})$\n",
        "\n",
        "$$ \\sigma_{I_\\alpha I_\\beta} = \\sigma_{I_\\alpha I_\\beta}^{(1)} +  \\sigma_{I_\\alpha I_\\beta}^{(2)} $$"
      ],
      "metadata": {
        "id": "0bu6BGR6iTFv"
      }
    },
    {
      "cell_type": "markdown",
      "source": [
        "To simplify the computation of $\\sigma_{I_\\alpha I_\\beta}$, we first introduce effective one-electron integrals by absorbing the $g_{prrq}$  terms of the two-electron integral tensor.\n",
        "\n",
        "$$k_{pq} = h_{pq} -\\frac{1}{2} \\sum_{r}^{N}g_{prrq} $$\n",
        "\n",
        "$$ \\sigma_{I_\\alpha I_\\beta}^{(1)} = \\sum_{pq}\\sum_{J_\\alpha J_\\beta}k_{pq} \\bra{I_\\alpha I_\\beta}E_{pq}\\ket{J_\\alpha J_\\beta} C_{J_\\alpha J_\\beta}$$"
      ],
      "metadata": {
        "id": "Em20O7seiYK4"
      }
    },
    {
      "cell_type": "code",
      "source": [
        "function absorb_h1e(hcore, C, eri, nmo, nel)\n",
        "    h2e = copy(eri)\n",
        "    h1e = C' * hcore * C\n",
        "    @ein  jiik[j,k] := eri[j,i,i,k]\n",
        "    f1e = h1e - jiik * 0.5\n",
        "    f1e = f1e * (1. / (nel+1e-100))\n",
        "    for k in 1:nmo\n",
        "        h2e[:,:,k,k] .+= f1e\n",
        "        h2e[k,k,:,:] .+= f1e\n",
        "    end\n",
        "    return 0.5 * h2e\n",
        "end"
      ],
      "metadata": {
        "colab": {
          "base_uri": "https://localhost:8080/"
        },
        "id": "vNB8lHJoihiV",
        "outputId": "64476edd-6d0b-4edc-99e3-391a7efc94aa"
      },
      "execution_count": 11,
      "outputs": [
        {
          "output_type": "execute_result",
          "data": {
            "text/plain": [
              "absorb_h1e (generic function with 1 method)"
            ]
          },
          "metadata": {},
          "execution_count": 11
        }
      ]
    },
    {
      "cell_type": "markdown",
      "source": [
        "Then we compute the two-electron part obtained by inserting the resolution of the identity.\n",
        "$$ \\sigma_{I_\\alpha I_\\beta}^{(2)} = \\frac{1}{2} \\sum_{K_\\alpha K_\\beta J_\\alpha J_\\beta} \\sum_{pqrs} \\bra{I_\\alpha I_\\beta}E_{pq}\\ket{K_\\alpha K_\\beta} g_{pqrs} \\bra{K_\\alpha K_\\beta}E_{rs}\\ket{J_\\alpha J_\\beta} C_{J_\\alpha J_\\beta}$$"
      ],
      "metadata": {
        "id": "FKOBg0TSiqRK"
      }
    },
    {
      "cell_type": "code",
      "source": [
        "function contract2e(eri,ci0,nmo,nel)\n",
        "    #RHF case only for now nα = nβ = nel // 2\n",
        "    nstrings = binomial(nmo,nel)\n",
        "    allowed = nel + (nmo - nel) * nel\n",
        "    #Generate bitstring tables\n",
        "    string_index_α = generate_index(collect(0:nmo-1), nmo, nel)\n",
        "    string_index_β = generate_index(collect(0:nmo-1), nmo, nel)\n",
        "\n",
        "    fcivec = reshape(ci0, (nstrings,nstrings))\n",
        "    fcitensor = zeros(Float64, nstrings, nstrings, nmo, nmo)\n",
        "    for i in axes(string_index_α, 3)\n",
        "        str = view(string_index_α,:,:, i)\n",
        "        for j in axes(str,1)\n",
        "            c,a,adr,sgn = str[j,1],str[j,2],str[j,3],str[j,4]\n",
        "            fcitensor[adr,:,a,c] += sgn * fcivec[i,:]\n",
        "        end\n",
        "    end\n",
        "\n",
        "    for i in axes(string_index_β, 3)\n",
        "        str = view(string_index_β,:,:, i)\n",
        "        for j in axes(str,1)\n",
        "            c,a,adr,sgn = str[j,1],str[j,2],str[j,3],str[j,4]\n",
        "            fcitensor[:,adr,a,c] += sgn * fcivec[:,i]\n",
        "        end    \n",
        "    end\n",
        "    @ein fcitensor[A,B,b,j] := eri[a,i,b,j] * fcitensor[A,B,a,i]\n",
        "    cinew = zeros(nstrings, nstrings)\n",
        "\n",
        "    for i in axes(string_index_α, 3)\n",
        "        str = view(string_index_α,:,:, i)\n",
        "        for j in axes(str,1)\n",
        "            c,a,adr,sgn = str[j,1],str[j,2],str[j,3],str[j,4]\n",
        "            cinew[adr,:] += sgn * fcitensor[i,:,a,c]\n",
        "        end\n",
        "    end\n",
        "    for i in axes(string_index_β, 3)\n",
        "        str = view(string_index_β,:,:, i)\n",
        "        for j in axes(str,1)\n",
        "            c,a,adr,sgn = str[j,1],str[j,2],str[j,3],str[j,4]\n",
        "            cinew[:,adr] += sgn * fcitensor[:,i,a,c]\n",
        "        end\n",
        "    end\n",
        "    return cinew\n",
        "end\n"
      ],
      "metadata": {
        "colab": {
          "base_uri": "https://localhost:8080/"
        },
        "id": "8ULmQHH9iiH_",
        "outputId": "7d556cec-57f3-4a83-990f-a53f127f3b64"
      },
      "execution_count": 12,
      "outputs": [
        {
          "output_type": "execute_result",
          "data": {
            "text/plain": [
              "contract2e (generic function with 1 method)"
            ]
          },
          "metadata": {},
          "execution_count": 12
        }
      ]
    },
    {
      "cell_type": "markdown",
      "source": [
        "For the Davidson algorithm, we also need to build a diagonal hamiltonian to use as a preconditionner"
      ],
      "metadata": {
        "id": "hqoJCGE2i28j"
      }
    },
    {
      "cell_type": "code",
      "source": [
        "function make_hdiag(h1e, eri, nmo, nel)\n",
        "    # α != β not handled\n",
        "    occ_α = occupied_strings(collect(1:1:nmo),nel)\n",
        "    occ_β = occupied_strings(collect(1:1:nmo),nel)\n",
        "    jdiag = ein\"iijj -> ij\"(eri)\n",
        "    kdiag = ein\"ijji -> ij\"(eri)\n",
        "    hdiag = []\n",
        "    for α in occ_α\n",
        "        for β in occ_β\n",
        "            e1 = sum([h1e[i,i] for i in α]) + sum([h1e[i,i] for i in β])\n",
        "            e2 = sum(jdiag[α,:][:,α]) + sum(jdiag[α,:][:,β]) + sum(jdiag[β,:][:,α]) + sum(jdiag[β,:][:,β]) - sum(kdiag[α,:][:,α])- sum(kdiag[β,:][:,β])\n",
        "            push!(hdiag, (e1 + (0.5 * e2)))   ### 😱 😱 😱\n",
        "        end\n",
        "    end\n",
        "    return hdiag\n",
        "end"
      ],
      "metadata": {
        "colab": {
          "base_uri": "https://localhost:8080/"
        },
        "id": "wMdR5MSxi3WZ",
        "outputId": "00dc7d7b-1402-40ee-9c55-18a14761b107"
      },
      "execution_count": 13,
      "outputs": [
        {
          "output_type": "execute_result",
          "data": {
            "text/plain": [
              "make_hdiag (generic function with 1 method)"
            ]
          },
          "metadata": {},
          "execution_count": 13
        }
      ]
    },
    {
      "cell_type": "markdown",
      "source": [
        "###  Davidson algorithm\n",
        "\n",
        "Summary from \n",
        "\n",
        "Leininger, M.L., Sherrill, C.D., Allen, W.D. and Schaefer, H.F., III (2001), Systematic Study of Selected Diagonalization Methods for Configuration Interaction Matrices. J. Comput. Chem., 22: 1574-1589.\n",
        "https://onlinelibrary.wiley.com/doi/abs/10.1002/jcc.1111\n",
        "\n",
        "1. Select a set of L orthonormal guess vectors, at\n",
        "least one for each root desired, and place in the\n",
        "set {$\\mathbf{b}_i $}.\n",
        "2. Use a standard diagonalization method to\n",
        "solve the L × L eigenvalue problem\n",
        "$$\\mathbf{Gα}^k = \\rho^k \\mathbf{α}^k , k = 1, 2, \\dots , M$$\n",
        "\n",
        "where\n",
        "$G_{ij} = (\\mathbf{b}_i , \\mathbf{Hb}_j ) = (\\mathbf{b}_i , \\mathbf{σ}_j )$, $1 ≤ i,\\ j≤ L$ and M is the number of roots of interest.\n",
        "3. Form the correction vectors {$\\boldsymbol{\\delta}^k$} , $k = 1,2, \\dots, M$, defined as\n",
        "$$\\delta_I^k = -(H_{II} - \\rho^k)^{-1} r_I^k,\n",
        "I = 1, 2,\\dots , N$$\n",
        "where\n",
        "$$r^k = \\sum_{i=1}^L α_i^k (\\mathbf{H} − ρ^k) \\mathbf{b}_i $$\n",
        "and N is the number of determinants or configuration state functions.\n",
        "4. Normalize {$\\boldsymbol{\\delta^k}$}.\n",
        "5. Schmidt orthonormalize the first $\\boldsymbol{\\delta^k}$-vector\n",
        "against the set {$\\mathbf{b}_i $} and append the result\n",
        "to {$\\mathbf{b}_i $}. Repeat this process for each of the other\n",
        "$M − 1$ correction vectors, neglecting any new\n",
        "vector whose norm after Schmidt orthogonalization is less than some threshold $T \\approx 10^{−3}$ .\n",
        "This results in the addition of m new b vectors,\n",
        "with $1 \\leq m \\leq M$.\n",
        "6. Increase L by m and return to step 2.\n"
      ],
      "metadata": {
        "id": "Fv05uiEVi8wd"
      }
    },
    {
      "cell_type": "code",
      "source": [
        "function davidson(sigma, ci0, preconditionner, nroots=1,silent = true, tol=1e-12, maxiter = 50, trial_space = 12)\n",
        "    space = 0\n",
        "    trial_space = trial_space + (nroots-1) * 3\n",
        "    toloose = sqrt(tol)\n",
        "    lindep = 1e-14\n",
        "    nstrings = size(ci0)[1]\n",
        "    dimt = nroots\n",
        "    fresh_start = true\n",
        "    v = Float64[]\n",
        "    w = Float64[]\n",
        "    e = Array{Float64}(undef, nroots)\n",
        "    conv = [false for i in collect(1:1:nroots)]\n",
        "\n",
        "    xt = Array{Float64}(undef,nstrings,nroots)\n",
        "    axt = similar(xt)\n",
        "    xs = Array{Float64}(undef,nstrings,nroots+trial_space)\n",
        "    x0 = similar(xs)\n",
        "    ax = similar(xs)\n",
        "    ax0 = similar(xs)\n",
        "    dx_norm = Array{Float64}(undef,nroots)\n",
        "\n",
        "    for i in 1:dimt\n",
        "        x0[:,i] = ci0[:,i]\n",
        "    end\n",
        "    \n",
        "    heff = zeros((trial_space + nroots),(trial_space + nroots))\n",
        "    norm_min = 1\n",
        "    for it in 1:maxiter\n",
        "        if fresh_start == true\n",
        "            space = 1\n",
        "            dimt = nroots\n",
        "            xt = Array{Float64}(undef,nstrings,nroots)\n",
        "            xs = Array{Float64}(undef,nstrings,nroots+trial_space)\n",
        "            ax = similar(xs) \n",
        "            xt[:,1:dimt], dimt = orthonormalise(x0[:,1:dimt],dimt,lindep, silent)\n",
        "            if dimt != nroots\n",
        "                if silent == false\n",
        "                    println(\"Warning - QR decomposition removed $(nroots - dimt) vectors \")\n",
        "                end\n",
        "            end\n",
        "            x0 = similar(xs) \n",
        "        elseif space > 1\n",
        "            xt[:,1:dimt], dimt  = orthonormalise(xt[:,1:dimt], dimt, lindep,silent)\n",
        "        end\n",
        "\n",
        "        for i in 1:dimt\n",
        "            axt[:,i] = sigma(xt[:,i])\n",
        "        end\n",
        "\n",
        "        for (i,k) in enumerate(collect(space:1:(dimt+space-1)))\n",
        "            xs[:,k] = xt[:,i]\n",
        "            ax[:,k] = axt[:,i]\n",
        "        end\n",
        "\n",
        "        rnow = dimt\n",
        "        head, space = space, space + rnow\n",
        "        elast = copy(e)\n",
        "        vlast = copy(v)\n",
        "        conv_last = copy(conv)\n",
        "        fill_heff!(heff,view(xs,:,1:space-1),view(ax,:,1:space-1), xt, axt, dimt)\n",
        "        xt =  Array{Float64}(undef,nstrings,nroots)\n",
        "        axt = similar(xt) \n",
        "\n",
        "        w, v = eigen(heff[1:space-1,1:space-1])\n",
        "        \n",
        "        e = w[1:nroots]\n",
        "        v = v[:,1:nroots]\n",
        "\n",
        "        x0 = Array{Float64}(undef,nstrings,nroots+trial_space)\n",
        "        gen_x0(x0, v, view(xs,:,1:space-1),nstrings)\n",
        "        gen_x0(ax0, v, view(ax,:,1:space-1),nstrings)\n",
        "        \n",
        "        elast, conv_last = sort_elast(elast, conv_last, vlast, v, fresh_start)\n",
        "        de = e - elast\n",
        "        dx_norm = Array{Float64}(undef,nroots)\n",
        "        conv = [false for i in collect(1:1:nroots)]\n",
        "\n",
        "        for (k, ek) in enumerate(e)\n",
        "            xt[:,k] = ax0[:,k] - (ek * x0[:,k])\n",
        "            dx_norm[k] = sqrt(dot(xt[:,k], xt[:,k]))\n",
        "            conv[k] = (abs(de[k]) < tol) && (dx_norm[k] < toloose)\n",
        "            if (conv[k] == true) && (conv_last[k] == false)\n",
        "                if silent == false\n",
        "                    println(\"root $k converged in $it iterations\")\n",
        "                end\n",
        "            end\n",
        "        end\n",
        "\n",
        "        ax0 = Array{Float64}(undef,nstrings,nroots+trial_space)\n",
        "        max_dx_norm = maximum(dx_norm)\n",
        "        if all(conv)\n",
        "            if silent == false\n",
        "                println(\"Davidson converged in $it iterations\")\n",
        "            end\n",
        "            break\n",
        "        end\n",
        "\n",
        "        if any(((!conv[k]) && (n^2 > lindep)) for (k,n) in enumerate(dx_norm))\n",
        "            for (k, ek) in enumerate(e)\n",
        "                if (!conv[k]) && (dx_norm[k]^2 > lindep)\n",
        "                    xt[:,k] = preconditionner(xt[:,k], e[1])\n",
        "                    xt[:,k] *= 1/sqrt(dot(xt[:,k], xt[:,k]))\n",
        "                end\n",
        "            end\n",
        "        else\n",
        "            for (k, ek) in enumerate(e)\n",
        "                if dx_norm[k]^2 > lindep \n",
        "                    xt[:,k] = preconditionner(xt[:,k],e[1])\n",
        "                    xt[:,k] *= 1 / sqrt(dot(xt[:,k], xt[:,k]))\n",
        "                else\n",
        "                    if silent == false\n",
        "                        println(\"Remove the $k th eigenvector\")\n",
        "                    end\n",
        "                end\n",
        "            end\n",
        "        end\n",
        "\n",
        "        for i in 1:space-1\n",
        "            for j in 1:dimt\n",
        "                xt[:,j] -= xs[:,i] * dot(xs[:,i], xt[:,j])\n",
        "            end\n",
        "        end\n",
        "        norm_min = 1\n",
        "\n",
        "        for i in 1:dimt\n",
        "            norm = sqrt(dot(xt[:,i], xt[:,i]))\n",
        "            if norm^2 > lindep\n",
        "                xt[:,i] *= 1 / norm\n",
        "                norm_min = minimum([norm_min, norm])\n",
        "            else\n",
        "                if silent == false\n",
        "                    println(\"Linear dependencies were found in the trial subspace\")\n",
        "                end\n",
        "            end\n",
        "        end\n",
        "\n",
        "        if space == 1\n",
        "            if silent == false\n",
        "                println(\"Linear dependencies were found in the trial subspace\")\n",
        "            end\n",
        "        end\n",
        "    \n",
        "        max_dx_last = max_dx_norm\n",
        "        fresh_start = (space + nroots) > trial_space\n",
        "    end\n",
        "    return e, x0[:,1:nroots]\n",
        "end\n",
        "\n",
        "function sort_elast(elast, conv_last, vlast, v, fresh_start)\n",
        "    if fresh_start\n",
        "        return elast, conv_last\n",
        "    end\n",
        "    head, nroots = size(vlast)\n",
        "    ovlp = broadcast(abs, (v[1:head,:]' * vlast))\n",
        "    idx = findmax.(eachrow(ovlp))\n",
        "    new_order = [i[2] for i in idx]\n",
        "    ordering_diff = (new_order != collect(1:1:length(idx)))\n",
        "    if ordering_diff\n",
        "        if silent == false\n",
        "            println(\"Ordering of eigenstates changed : $ordering_diff \")\n",
        "        end\n",
        "    end\n",
        "    return [elast[i[2]] for i in idx], [conv_last[i[2]] for i in idx]\n",
        "end\n",
        "\n",
        "function gen_x0(x0, v, xs, nstrings)\n",
        "    space, nroots = size(v)\n",
        "    x0[:,1:nroots] = ein\"c,x -> xc\"(v[space,:],xs[:,space])\n",
        "    xsi = Array{Float64}(undef,nstrings, 1)\n",
        "    for i in reverse(collect(1:1:(space-1)))\n",
        "        xsi  = copy(xs[:,i])\n",
        "        for k in 1:nroots\n",
        "            x0[:,k] .+= v[i,k] * xsi\n",
        "        end\n",
        "        xsi = Array{Float64}(undef,nstrings, 1)\n",
        "    end\n",
        "end\n",
        "\n",
        "function orthonormalise(xs, dimt, lindep=1e-14, silent=true)\n",
        "    #QR decomposition to form a list of orthonormal vectors\n",
        "    nstrings, nvec = size(xs)\n",
        "    qs = zeros(nstrings,nvec)\n",
        "    nv = 1\n",
        "    for i in 1:nvec\n",
        "        xi = copy(xs[:,i])\n",
        "        for j in 1:nv\n",
        "            prod = dot(qs[:,j], xi)\n",
        "            xi -= prod * qs[:,j]\n",
        "        end\n",
        "        innerprod = dot(xi, xi)\n",
        "        norm = sqrt(innerprod)\n",
        "        if innerprod > lindep\n",
        "            qs[:,nv] = xi / norm\n",
        "            nv +=1\n",
        "        else\n",
        "            dimt -= 1\n",
        "            if silent == false\n",
        "                println(\"Warning QR decomposition removed vector n° $i\")\n",
        "            end\n",
        "        end\n",
        "    end\n",
        "    \n",
        "    return qs[:,1:(nv-1)], dimt \n",
        "end\n",
        "\n",
        "function fill_heff!(heff,xs,ax,xt,axt,dimt)\n",
        "    nrow = dimt\n",
        "    row1 = size(ax)[2]\n",
        "    row0 = row1 - nrow\n",
        "\n",
        "    for (ip,i) in enumerate(range(row0, row1-1))\n",
        "        for (jp,j) in enumerate(collect(row0:1:i-1))\n",
        "            heff[i+1,j+1] = dot(xt[:,ip], axt[:,jp])\n",
        "            heff[j+1,i+1] = heff[i+1,j+1]\n",
        "        end\n",
        "        heff[(i+1),(i+1)] = dot(xt[:,ip],axt[:,ip])\n",
        "    end\n",
        "    \n",
        "    for i in 0:row0-1\n",
        "        for (jp,j) in enumerate(range(row0,row1-1))\n",
        "            heff[j+1,i+1] = dot(xt[:,jp], ax[:,i+1])\n",
        "            heff[i+1,j+1] = heff[j+1,i+1]\n",
        "        end\n",
        "    end\n",
        "end"
      ],
      "metadata": {
        "colab": {
          "base_uri": "https://localhost:8080/"
        },
        "id": "AeZ4bBY4i-m1",
        "outputId": "752e8d09-bead-4247-e5e5-9810a7f2a591"
      },
      "execution_count": 14,
      "outputs": [
        {
          "output_type": "execute_result",
          "data": {
            "text/plain": [
              "fill_heff! (generic function with 1 method)"
            ]
          },
          "metadata": {},
          "execution_count": 14
        }
      ]
    },
    {
      "cell_type": "markdown",
      "source": [
        "Now we are ready to run our first full-CI calculation, let's assemble everything together !"
      ],
      "metadata": {
        "id": "eE_LFAcCjR-1"
      }
    },
    {
      "cell_type": "code",
      "source": [
        "function FCI(C,nelec::Int64,ao_integrals,nroots,silent)\n",
        "    nmo = size(C)[1]\n",
        "    nvir = nmo - (nelec÷2)\n",
        "    nα = nelec÷2\n",
        "    nβ = nα\n",
        "    Hcore = Array(ao_integrals[\"T\"]) + Array(ao_integrals[\"V\"])\n",
        "    μνλσ = Array(ao_integrals[\"ERI\"])\n",
        "    V_nuc = ao_integrals.molecule.Vnuc\n",
        "\n",
        "    f1e = zeros(nmo,nmo)\n",
        "    nstrings = binomial(nmo, nα)\n",
        "    \n",
        "    fcivec = zeros((nstrings * nstrings),nroots)\n",
        "    j = 1\n",
        "    for i in 1:nroots\n",
        "        fcivec[j,i] = 1.0\n",
        "        j += nstrings + i\n",
        "    end\n",
        "    \n",
        "    #AO to MO transformation\n",
        "    eri = ein\"ai,bj,ck,dl,abcd->ijkl\"(C,C,C,C,μνλσ)\n",
        "    \n",
        "    h1e = C' * Hcore * C\n",
        "    h2e = absorb_h1e(Hcore, C, eri,nmo,nα*2)\n",
        "    \n",
        "    function σ_vec(v)\n",
        "        σ = contract2e(h2e, v, nmo, nα)\n",
        "        return vec(σ)\n",
        "    end\n",
        "    hdiag = make_hdiag(h1e,eri,nmo,nα)\n",
        "    precond(x,e)= x ./ (hdiag .- e .+ 1e-4)\n",
        "    \n",
        "    e, c = davidson(σ_vec,fcivec,precond,nroots,silent)\n",
        "\n",
        "    for i in 1:nroots\n",
        "        e[i] = e[i] + V_nuc\n",
        "        #println(\"E($i) = $(e[i]+V_nuc)\")\n",
        "        #display(c[:,i])\n",
        "    end\n",
        "    return e, c\n",
        "end\n"
      ],
      "metadata": {
        "colab": {
          "base_uri": "https://localhost:8080/"
        },
        "id": "tMjj_YhZjM-n",
        "outputId": "f5c09615-8f30-4c43-f489-4aea0df103e9"
      },
      "execution_count": 15,
      "outputs": [
        {
          "output_type": "execute_result",
          "data": {
            "text/plain": [
              "FCI (generic function with 1 method)"
            ]
          },
          "metadata": {},
          "execution_count": 15
        }
      ]
    },
    {
      "cell_type": "code",
      "source": [
        "@molecule {\n",
        "    O   0.000000     0.00000     0.11779\n",
        "    H   0.000000     0.75545    -0.47116\n",
        "    H   0.000000    -0.75545    -0.47116 \n",
        "}\n",
        "@set {\n",
        "    basis sto-3g\n",
        "    charge 0\n",
        "    multiplicity 1 \n",
        "}\n",
        "\n",
        "ao_integrals = IntegralHelper(eri_type=Chonky())\n",
        "#Run the Hartee-Fock Calculation\n",
        "E, C = RHF(ao_integrals)\n",
        "println(\"Converged Hartree-Fock Energy = $E\")\n",
        "e, c = FCI(C,10,ao_integrals,1,true)\n",
        "\n",
        "println(\"Converged FCI energy = $(e[1])\")\n"
      ],
      "metadata": {
        "colab": {
          "base_uri": "https://localhost:8080/"
        },
        "id": "iF-_WaTteL4W",
        "outputId": "dcc04f79-83d5-4b1b-8640-03d2d366b190"
      },
      "execution_count": null,
      "outputs": [
        {
          "output_type": "stream",
          "name": "stdout",
          "text": [
            "Iteration 1 ---- E = -118.16877249768525 ---- Ptol = 0.7698697843908376\n",
            "Iteration 2 ---- E = -71.19755398663594 ---- Ptol = 0.5276234409815904\n",
            "Iteration 3 ---- E = -75.28186975157038 ---- Ptol = 0.0537674821920756\n",
            "Iteration 4 ---- E = -74.93750748767822 ---- Ptol = 0.010506246245443673\n",
            "Iteration 5 ---- E = -74.96647042201111 ---- Ptol = 0.004072569282003494\n",
            "Iteration 6 ---- E = -74.96355897322368 ---- Ptol = 0.001620682445292192\n",
            "Iteration 7 ---- E = -74.96341516996753 ---- Ptol = 0.0006797065105299799\n",
            "Iteration 8 ---- E = -74.96325755180095 ---- Ptol = 0.00028923338599596253\n",
            "Iteration 9 ---- E = -74.96319518881681 ---- Ptol = 0.00012418820789282035\n",
            "Iteration 10 ---- E = -74.96316753236347 ---- Ptol = 5.355248914804694e-5\n",
            "Converged Hartree-Fock Energy = -74.96316753236347\n"
          ]
        }
      ]
    },
    {
      "cell_type": "code",
      "source": [
        "#Helium atom\n",
        "@molecule {\n",
        "    He   0.12     0.01    0.156\n",
        "}\n",
        "@set {\n",
        "    basis cc-pvtz\n",
        "    charge 0\n",
        "    multiplicity 1 \n",
        "}\n",
        "\n",
        "ao_integrals = IntegralHelper(eri_type=Chonky())\n",
        "\n",
        "E, C = RHF(ao_integrals)\n",
        "println(\"Converged Hartree-Fock Energy = $E\")\n",
        "\n",
        "@btime e, c = FCI(C,2,ao_integrals,1,true)\n",
        "e, c = FCI(C,2,ao_integrals,1,true)\n",
        "println(\"Converged FCI Energy = $(e[1])\")"
      ],
      "metadata": {
        "id": "H5laK_KWeWEe"
      },
      "execution_count": null,
      "outputs": []
    },
    {
      "cell_type": "code",
      "source": [],
      "metadata": {
        "id": "aztGDXwjfQHO"
      },
      "execution_count": null,
      "outputs": []
    }
  ]
}